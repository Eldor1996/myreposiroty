{
 "cells": [
  {
   "cell_type": "code",
   "execution_count": 24,
   "metadata": {},
   "outputs": [
    {
     "name": "stderr",
     "output_type": "stream",
     "text": [
      "<ipython-input-24-1d756ed88c1c>:46: UserWarning: Matplotlib is currently using agg, which is a non-GUI backend, so cannot show the figure.\n",
      "  plt.show()\n"
     ]
    },
    {
     "data": {
      "image/png": "[encoded data removed]",
      "text/plain": [
       "<Figure size 432x288 with 1 Axes>"
      ]
     },
     "metadata": {
      "needs_background": "light"
     },
     "output_type": "display_data"
    }
   ],
   "source": [
    "import numpy as np\n",
    "import matplotlib.pyplot as plt\n",
    "\n",
    "\n",
    "def hat_graph(ax, xlabels, values, group_labels):\n",
    "\n",
    "    def label_bars(heights, rects):\n",
    "        \"\"\"Attach a text label on top of each bar.\"\"\"\n",
    "        for height, rect in zip(heights, rects):\n",
    "            ax.annotate(f'{height}',\n",
    "                        xy=(rect.get_x() + rect.get_width() / 2, height),\n",
    "                        xytext=(0, 4),  \n",
    "                        textcoords='offset points',\n",
    "                        ha='center', va='bottom')\n",
    "\n",
    "    values = np.asarray(values)\n",
    "    x = np.arange(values.shape[1])\n",
    "    ax.set_xticks(x)\n",
    "    ax.set_xticklabels(xlabels)\n",
    "    spacing = 0.3 \n",
    "    width = (1 - spacing) / values.shape[0]\n",
    "    heights0 = values[0]\n",
    "    for i, (heights, group_label) in enumerate(zip(values, group_labels)):\n",
    "        style = {'fill': False} if i == 0 else {'edgecolor': 'Blue'}\n",
    "        rects = ax.bar(x - spacing/2 + i * width, heights - heights0,\n",
    "                       width, bottom=heights0, label=group_label, **style)\n",
    "        label_bars(heights, rects)\n",
    "\n",
    "\n",
    "\n",
    "xlabels = ['I', 'II', 'III', 'IV', 'V']\n",
    "playerA = np.array([5, 15, 22, 20, 25])\n",
    "playerB = np.array([25, 32, 34, 30, 27])\n",
    "\n",
    "fig, ax = plt.subplots()\n",
    "hat_graph(ax, xlabels, [playerA, playerB], ['Player A', 'Player B'])\n",
    "\n",
    "\n",
    "ax.set_xlabel('Games')\n",
    "ax.set_ylabel('Score')\n",
    "ax.set_ylim(0, 60)\n",
    "ax.set_title('Scores by number of game and players')\n",
    "ax.legend()\n",
    "\n",
    "fig.tight_layout()\n",
    "plt.show()"
   ]
  },
  {
   "cell_type": "code",
   "execution_count": null,
   "metadata": {},
   "outputs": [],
   "source": []
  },
  {
   "cell_type": "code",
   "execution_count": null,
   "metadata": {},
   "outputs": [],
   "source": []
  },
  {
   "cell_type": "code",
   "execution_count": null,
   "metadata": {},
   "outputs": [],
   "source": []
  }
 ],
 "metadata": {
  "kernelspec": {
   "display_name": "Python 3",
   "language": "python",
   "name": "python3"
  },
  "language_info": {
   "codemirror_mode": {
    "name": "ipython",
    "version": 3
   },
   "file_extension": ".py",
   "mimetype": "text/x-python",
   "name": "python",
   "nbconvert_exporter": "python",
   "pygments_lexer": "ipython3",
   "version": "3.8.5"
  }
 },
 "nbformat": 4,
 "nbformat_minor": 4
}
